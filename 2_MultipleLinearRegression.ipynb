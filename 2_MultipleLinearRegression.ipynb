{
 "cells": [
  {
   "cell_type": "code",
   "execution_count": null,
   "metadata": {},
   "outputs": [],
   "source": [
    "import numpy as np\n",
    "import matplotlib.pyplot as plt"
   ]
  },
  {
   "cell_type": "code",
   "execution_count": null,
   "metadata": {},
   "outputs": [],
   "source": [
    "X_train = np.array([[2104, 5, 1, 45], [1416, 3, 2, 40], [852, 2, 1, 35]])\n",
    "y_train = np.array([460, 232, 178])\n",
    "\n",
    "m = X_train.shape[0]\n",
    "m , n = X_train.shape   # Number of training example, Number of features\n"
   ]
  },
  {
   "cell_type": "code",
   "execution_count": null,
   "metadata": {},
   "outputs": [],
   "source": [
    "def compute_cost(X, y, w, b):\n",
    "    tot_cost = 0\n",
    "    for i in range(m):\n",
    "        f_wb = np.dot(X[i], w) + b\n",
    "        # print(np.dot(X[i],w))\n",
    "        cost = (f_wb - y[i])**2\n",
    "        tot_cost += cost\n",
    "    return tot_cost/(2*m)"
   ]
  },
  {
   "cell_type": "code",
   "execution_count": null,
   "metadata": {},
   "outputs": [],
   "source": [
    "# Testing cost function\n",
    "W = np.zeros(4)\n",
    "b=0\n",
    "X = np.array([[2104, 5, 1, 45], [1416, 3, 2, 40], [852, 2, 1, 35]])\n",
    "y = np.array([460, 232, 178])\n",
    "compute_cost(X,y,W,b)\n",
    "X[1][3]"
   ]
  },
  {
   "cell_type": "code",
   "execution_count": null,
   "metadata": {},
   "outputs": [],
   "source": [
    "def compute_gradient(X, y, w, b):\n",
    "    dJ_db = 0\n",
    "    dJ_dw = np.zeros(n,)\n",
    "    for i in range(m):                             \n",
    "        err = (np.dot(X[i], w) + b) - y[i]   \n",
    "        dJ_db += err \n",
    "        for j in range(n):                         \n",
    "            dJ_dw[j] += err * X[i][j]    \n",
    "    # print(dJ_db/m, dJ_dw/m)                           \n",
    "    return dJ_db/m, dJ_dw/m"
   ]
  },
  {
   "cell_type": "code",
   "execution_count": null,
   "metadata": {},
   "outputs": [],
   "source": [
    "def gradient_descent(alpha, iter, X, y, w_sample, b_sample,cost_fn, gradient_fn):\n",
    "    w = w_sample\n",
    "    b = b_sample\n",
    "    cost_list = []\n",
    "    for i in range(iter):\n",
    "        dJ_db, dJ_dw = gradient_fn(X, y, w, b)\n",
    "        w -= alpha * dJ_dw\n",
    "        b -= alpha * dJ_db\n",
    "        cost_list.append(cost_fn(X, y, w, b))\n",
    "    return w,b,cost_list\n",
    "        \n",
    "        "
   ]
  },
  {
   "attachments": {},
   "cell_type": "markdown",
   "metadata": {},
   "source": [
    "Executing the code"
   ]
  },
  {
   "cell_type": "code",
   "execution_count": null,
   "metadata": {},
   "outputs": [],
   "source": [
    "iter = 10000\n",
    "alpha = 1e-7\n",
    "w_sample = np.zeros(n,)\n",
    "b_sample = 0\n",
    "w, b, cost_list = gradient_descent(alpha, iter, X, y, w_sample, b_sample,compute_cost, compute_gradient)\n",
    "print(f\"PREDICTION\\nValue of w is: {w}\\nValue of b is: {b}\")\n",
    "\n",
    "plt.plot(cost_list)\n",
    "plt.show()"
   ]
  },
  {
   "attachments": {},
   "cell_type": "markdown",
   "metadata": {},
   "source": [
    "###### But look closely and we can see that the graph has not converged"
   ]
  },
  {
   "cell_type": "code",
   "execution_count": null,
   "metadata": {},
   "outputs": [],
   "source": [
    "plt.plot(cost_list)\n",
    "plt.ylim(600,700)\n",
    "plt.show()"
   ]
  },
  {
   "attachments": {},
   "cell_type": "markdown",
   "metadata": {},
   "source": [
    "###### So, we need a better option"
   ]
  }
 ],
 "metadata": {
  "kernelspec": {
   "display_name": "base",
   "language": "python",
   "name": "python3"
  },
  "language_info": {
   "codemirror_mode": {
    "name": "ipython",
    "version": 3
   },
   "file_extension": ".py",
   "mimetype": "text/x-python",
   "name": "python",
   "nbconvert_exporter": "python",
   "pygments_lexer": "ipython3",
   "version": "3.9.7 (default, Sep 16 2021, 16:59:28) [MSC v.1916 64 bit (AMD64)]"
  },
  "orig_nbformat": 4,
  "vscode": {
   "interpreter": {
    "hash": "950b5653ccfc34417735dd321d006fd482b31f7611416c3d8236dc5b17587d3f"
   }
  }
 },
 "nbformat": 4,
 "nbformat_minor": 2
}
