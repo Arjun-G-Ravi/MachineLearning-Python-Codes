{
 "cells": [
  {
   "attachments": {},
   "cell_type": "markdown",
   "metadata": {},
   "source": [
    "Imports"
   ]
  },
  {
   "cell_type": "code",
   "execution_count": 77,
   "metadata": {},
   "outputs": [],
   "source": [
    "import matplotlib.pyplot as plt\n",
    "import numpy as np"
   ]
  },
  {
   "attachments": {},
   "cell_type": "markdown",
   "metadata": {},
   "source": [
    "The data"
   ]
  },
  {
   "cell_type": "code",
   "execution_count": 78,
   "metadata": {},
   "outputs": [],
   "source": [
    "X_train = np.array([[0.5, 1.5], [1,1], [1.5, 0.5], [3, 0.5], [2, 2], [1, 2.5]])\n",
    "y_train = np.array([0, 0, 0, 1, 1, 1]) "
   ]
  },
  {
   "cell_type": "code",
   "execution_count": 79,
   "metadata": {},
   "outputs": [],
   "source": [
    "m, n = X_train.shape    # Number of training data, Numeber of features"
   ]
  },
  {
   "attachments": {},
   "cell_type": "markdown",
   "metadata": {},
   "source": [
    "Performing Logistic regression"
   ]
  },
  {
   "cell_type": "code",
   "execution_count": 80,
   "metadata": {},
   "outputs": [],
   "source": [
    "def sigmoid(z):\n",
    "    return 1/(1 + np.exp(-z))"
   ]
  },
  {
   "cell_type": "code",
   "execution_count": 81,
   "metadata": {},
   "outputs": [],
   "source": [
    "def compute_cost(X, y, w, b):   # Not square error cost function\n",
    "    tot_cost = 0\n",
    "    for i in range(m):\n",
    "        z = np.dot(w,X[i]) + b\n",
    "        f_wb_i = sigmoid(z)\n",
    "        tot_cost +=  -y[i]*np.log(f_wb_i) - (1-y[i])*np.log(1-f_wb_i)\n",
    "    return tot_cost/m    "
   ]
  },
  {
   "cell_type": "code",
   "execution_count": 82,
   "metadata": {},
   "outputs": [],
   "source": [
    "def compute_gradient(X, y, w, b):\n",
    "    dJ_dw = np.zeros((n,))\n",
    "    dJ_db = 0\n",
    "    \n",
    "    for i in range(m):\n",
    "        f_wb_i = sigmoid(np.dot(w,X[i]) + b)\n",
    "        err = f_wb_i - y[i]\n",
    "        dJ_db += err\n",
    "        for j in range(n):\n",
    "            dJ_dw[j] += err * X[i][j]\n",
    "    return dJ_dw/m, dJ_db/m"
   ]
  },
  {
   "cell_type": "code",
   "execution_count": 83,
   "metadata": {},
   "outputs": [],
   "source": [
    "def gradient_descent(alpha, iter, X, y, w_i, b_i, cost_fn, grad_fn):\n",
    "    \n",
    "    w = np.zeros((n,))\n",
    "    b = 0\n",
    "    cost_list = []\n",
    "    \n",
    "    for i in range(iter):\n",
    "        dJ_dw, dJ_db = grad_fn(X, y, w, b)\n",
    "        w -= alpha * dJ_dw\n",
    "        b -= alpha * dJ_db\n",
    "        cost_list.append(cost_fn(X, y, w, b))\n",
    "        \n",
    "    return w, b, cost_list"
   ]
  },
  {
   "attachments": {},
   "cell_type": "markdown",
   "metadata": {},
   "source": [
    "Performing gradient descent with logarithmic function"
   ]
  },
  {
   "cell_type": "code",
   "execution_count": 84,
   "metadata": {},
   "outputs": [
    {
     "name": "stdout",
     "output_type": "stream",
     "text": [
      "PREDICTION\n",
      "Value of w is: [8.35313087 8.15226727]\n",
      "Value of b is: -22.690605796630248\n",
      "Cost: 0.0016974661879524142\n"
     ]
    },
    {
     "data": {
      "image/png": "[encoded data removed]",
      "text/plain": [
       "<Figure size 640x480 with 1 Axes>"
      ]
     },
     "metadata": {},
     "output_type": "display_data"
    }
   ],
   "source": [
    "iter = 100000\n",
    "alpha = 10e-2\n",
    "w_i = np.zeros((n,))\n",
    "b_i = 0\n",
    "w, b, cost_list= gradient_descent(alpha, iter, X_train, y_train, w_i, b_i, compute_cost, compute_gradient)\n",
    "print(f\"PREDICTION\\nValue of w is: {w}\\nValue of b is: {b}\")\n",
    "\n",
    "plt.scatter([i for i in range(iter)],cost_list)\n",
    "print(f\"Cost: {cost_list[-1]}\")\n",
    "plt.show()"
   ]
  }
 ],
 "metadata": {
  "kernelspec": {
   "display_name": "base",
   "language": "python",
   "name": "python3"
  },
  "language_info": {
   "codemirror_mode": {
    "name": "ipython",
    "version": 3
   },
   "file_extension": ".py",
   "mimetype": "text/x-python",
   "name": "python",
   "nbconvert_exporter": "python",
   "pygments_lexer": "ipython3",
   "version": "3.9.7"
  },
  "orig_nbformat": 4,
  "vscode": {
   "interpreter": {
    "hash": "950b5653ccfc34417735dd321d006fd482b31f7611416c3d8236dc5b17587d3f"
   }
  }
 },
 "nbformat": 4,
 "nbformat_minor": 2
}
