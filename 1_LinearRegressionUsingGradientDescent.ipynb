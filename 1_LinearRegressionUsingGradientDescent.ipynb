{
 "cells": [
  {
   "attachments": {},
   "cell_type": "markdown",
   "metadata": {},
   "source": [
    "Importing necessary libraries"
   ]
  },
  {
   "cell_type": "code",
   "execution_count": 12,
   "metadata": {},
   "outputs": [],
   "source": [
    "import numpy as np\n",
    "import matplotlib.pyplot as plt"
   ]
  },
  {
   "attachments": {},
   "cell_type": "markdown",
   "metadata": {},
   "source": [
    "Data"
   ]
  },
  {
   "cell_type": "code",
   "execution_count": 13,
   "metadata": {},
   "outputs": [],
   "source": [
    "x_train = np.array([1,2])           # Features\n",
    "y_train = np.array([200,300])       # Target Value"
   ]
  },
  {
   "cell_type": "code",
   "execution_count": 14,
   "metadata": {},
   "outputs": [],
   "source": [
    "m = x_train.shape[0]  # Number of training examples"
   ]
  },
  {
   "attachments": {},
   "cell_type": "markdown",
   "metadata": {},
   "source": [
    "Plotting the data"
   ]
  },
  {
   "cell_type": "code",
   "execution_count": 15,
   "metadata": {},
   "outputs": [
    {
     "data": {
      "image/png": "[encoded data removed]",
      "text/plain": [
       "<Figure size 640x480 with 1 Axes>"
      ]
     },
     "metadata": {},
     "output_type": "display_data"
    }
   ],
   "source": [
    "plt.scatter(x_train, y_train,marker = 'x', color = 'r')\n",
    "plt.title(\"Scatter plot of data\")\n",
    "plt.show()"
   ]
  },
  {
   "attachments": {},
   "cell_type": "markdown",
   "metadata": {},
   "source": [
    "Computing cost function"
   ]
  },
  {
   "cell_type": "code",
   "execution_count": 16,
   "metadata": {},
   "outputs": [],
   "source": [
    "def compute_cost(x, y, w, b):\n",
    "    tot_err = 0\n",
    "    for i in range(m):\n",
    "        f_wb = w * x[i] + b\n",
    "        \n",
    "        err_sq = (f_wb - y[i]) **2\n",
    "        tot_err += err_sq\n",
    "    cost = (1/2*m)*tot_err\n",
    "    return cost"
   ]
  },
  {
   "attachments": {},
   "cell_type": "markdown",
   "metadata": {},
   "source": [
    "Performing gradient descent"
   ]
  },
  {
   "attachments": {},
   "cell_type": "markdown",
   "metadata": {},
   "source": [
    "###### First we are going to calculate the gradient, i.e, the derivative of cost function w.r.t w and b."
   ]
  },
  {
   "cell_type": "code",
   "execution_count": 17,
   "metadata": {},
   "outputs": [],
   "source": [
    "def compute_gradient(x, y, w, b):\n",
    "    dJ_dw = dJ_db = 0\n",
    "    for i in range(m):\n",
    "        f_wb = w * x[i] + b\n",
    "        \n",
    "        dJ_dw_i = (f_wb - y[i]) * x[i]\n",
    "        dJ_db_i = (f_wb - y[i])\n",
    "        \n",
    "        dJ_dw += dJ_dw_i\n",
    "        dJ_db += dJ_db_i\n",
    "    \n",
    "    return dJ_dw/m, dJ_db/m"
   ]
  },
  {
   "attachments": {},
   "cell_type": "markdown",
   "metadata": {},
   "source": [
    "###### Now we can perform gradient descent to find values for w and b, such that the cost is minimum."
   ]
  },
  {
   "cell_type": "code",
   "execution_count": 18,
   "metadata": {},
   "outputs": [],
   "source": [
    "def gradient_descent(alpha, n, x, y, w_sample, b_sample, cost_fn, gradient_fn):\n",
    "    w, b = w_sample, b_sample\n",
    "    for i in range(n):\n",
    "        dj_dw, dj_db = gradient_fn(x, y, w , b)\n",
    "        b = b - alpha * dj_db                            \n",
    "        w = w - alpha * dj_dw \n",
    "    return w,b"
   ]
  },
  {
   "attachments": {},
   "cell_type": "markdown",
   "metadata": {},
   "source": [
    "Performing linear regression to predict w and b"
   ]
  },
  {
   "cell_type": "code",
   "execution_count": 21,
   "metadata": {},
   "outputs": [
    {
     "name": "stdout",
     "output_type": "stream",
     "text": [
      "PREDICTION\n",
      "Value of w is: 100.00000000000071\n",
      "Value of b is: 99.99999999999886\n"
     ]
    }
   ],
   "source": [
    "alpha = .1\n",
    "n =10000\n",
    "w_sample, b_sample = 0, 0\n",
    "w,b = gradient_descent(alpha, n, x_train, y_train, w_sample, b_sample, compute_cost, compute_gradient)\n",
    "\n",
    "print(f\"PREDICTION\\nValue of w is: {w}\\nValue of b is: {b}\")"
   ]
  }
 ],
 "metadata": {
  "kernelspec": {
   "display_name": "base",
   "language": "python",
   "name": "python3"
  },
  "language_info": {
   "codemirror_mode": {
    "name": "ipython",
    "version": 3
   },
   "file_extension": ".py",
   "mimetype": "text/x-python",
   "name": "python",
   "nbconvert_exporter": "python",
   "pygments_lexer": "ipython3",
   "version": "3.9.7"
  },
  "orig_nbformat": 4,
  "vscode": {
   "interpreter": {
    "hash": "950b5653ccfc34417735dd321d006fd482b31f7611416c3d8236dc5b17587d3f"
   }
  }
 },
 "nbformat": 4,
 "nbformat_minor": 2
}
