{
 "cells": [
  {
   "attachments": {},
   "cell_type": "markdown",
   "metadata": {},
   "source": [
    "Whenever using ML:\n",
    "\n",
    "    1) Design the model (the forward pass), the input size and output size\n",
    "    2) Construct loss and the optimiser\n",
    "    3) Training loop\n",
    "         - Forward pass: Compute prediction\n",
    "         - Backward pass: Gradients\n",
    "         - Compute loss for accuracy check\n",
    "         - Update weights"
   ]
  },
  {
   "attachments": {},
   "cell_type": "markdown",
   "metadata": {},
   "source": [
    "Without PyTorch"
   ]
  },
  {
   "cell_type": "code",
   "execution_count": null,
   "metadata": {},
   "outputs": [],
   "source": [
    "import numpy as np\n",
    "\n",
    "# model: y = w*x = 2*x\n",
    "\n",
    "# Initialisation\n",
    "x = np.array([1,2,3,4], dtype=np.float32)\n",
    "y = np.array([2,4,6,8], dtype=np.float32)\n",
    "w = 0.0\n",
    "\n",
    "# Forward pass\n",
    "def forw_pass(x,w):\n",
    "    y_hat = w*x\n",
    "    return y_hat\n",
    "\n",
    "# Loss MSE\n",
    "def loss(y, y_hat):\n",
    "    return ((y_hat - y)**2).mean()\n",
    "\n",
    "# Gradient\n",
    "def gradient(x,y,y_hat):\n",
    "    return np.dot(2*x,y_hat-y).mean()\n",
    "\n",
    "alpha = .01\n",
    "num_iteration = 15\n",
    "\n",
    "for epoch in range(num_iteration):\n",
    "    y_hat = forw_pass(x,w)\n",
    "    l = loss(y,y_hat)\n",
    "    dL_dw = gradient(x,y,y_hat)\n",
    "    w = w - alpha * dL_dw\n",
    "    print(f\"Epoch:{epoch+1}  Loss:{l:.8f}  weight:{w:.5f}\")\n",
    "\n",
    "print(f\"\\nPrediction after training: f(5) = {forw_pass(5,w):.3f}\")\n",
    "    "
   ]
  },
  {
   "attachments": {},
   "cell_type": "markdown",
   "metadata": {},
   "source": [
    "Using Autograd of PyTorch"
   ]
  },
  {
   "cell_type": "code",
   "execution_count": 56,
   "metadata": {},
   "outputs": [
    {
     "name": "stdout",
     "output_type": "stream",
     "text": [
      "Prediction before training: f(5) = 0.000\n",
      "Epoch:1  Loss:30.00000000  weight:0.30000\n",
      "Epoch:11  Loss:1.16278565  weight:1.66531\n",
      "Epoch:21  Loss:0.04506890  weight:1.93411\n",
      "Epoch:31  Loss:0.00174685  weight:1.98703\n",
      "Epoch:41  Loss:0.00006770  weight:1.99745\n",
      "Epoch:51  Loss:0.00000262  weight:1.99950\n",
      "Epoch:61  Loss:0.00000010  weight:1.99990\n",
      "Epoch:71  Loss:0.00000000  weight:1.99998\n",
      "Epoch:81  Loss:0.00000000  weight:2.00000\n",
      "Epoch:91  Loss:0.00000000  weight:2.00000\n",
      "\n",
      "Prediction after training: f(5) = 10.000\n"
     ]
    }
   ],
   "source": [
    "import torch\n",
    "\n",
    "# model: y = w*x = 2*x\n",
    "\n",
    "# Initialisation\n",
    "x = torch.tensor([1,2,3,4], dtype=torch.float32)\n",
    "y = torch.tensor([2,4,6,8], dtype=torch.float32)\n",
    "w = torch.tensor(0.0, dtype=torch.float32, requires_grad=True)\n",
    "\n",
    "# Forward pass\n",
    "def forw_pass(x):\n",
    "    return w*x\n",
    "    \n",
    "# Loss MSE\n",
    "def loss(y, y_hat):\n",
    "    return ((y_hat - y)**2).mean()\n",
    "\n",
    "# Gradient calc done by autograd\n",
    "print(f'Prediction before training: f(5) = {forw_pass(5).item():.3f}')\n",
    "alpha = .01\n",
    "num_iteration = 100\n",
    "\n",
    "for epoch in range(num_iteration):\n",
    "    y_hat = forw_pass(x)\n",
    "    \n",
    "    l = loss(y,y_hat)\n",
    "    l.backward()\n",
    "    # print(w.grad)\n",
    "\n",
    "    with torch.no_grad():\n",
    "        w -= alpha * w.grad\n",
    "    w.grad.zero_()\n",
    "    if epoch%10 == 0:\n",
    "        print(f\"Epoch:{epoch+1}  Loss:{l:.8f}  weight:{w:.5f}\")    \n",
    "   \n",
    "\n",
    "print(f\"\\nPrediction after training: f(5) = {forw_pass(5):.3f}\")\n",
    "    "
   ]
  },
  {
   "attachments": {},
   "cell_type": "markdown",
   "metadata": {},
   "source": [
    "Using torch.nn module"
   ]
  },
  {
   "cell_type": "code",
   "execution_count": 57,
   "metadata": {},
   "outputs": [
    {
     "name": "stdout",
     "output_type": "stream",
     "text": [
      "Epoch:1  Loss:30.00000000  weight:0.30000\n",
      "Epoch:11  Loss:1.16278565  weight:1.66531\n",
      "Epoch:21  Loss:0.04506890  weight:1.93411\n",
      "Epoch:31  Loss:0.00174685  weight:1.98703\n",
      "Epoch:41  Loss:0.00006770  weight:1.99745\n",
      "Epoch:51  Loss:0.00000262  weight:1.99950\n",
      "Epoch:61  Loss:0.00000010  weight:1.99990\n",
      "Epoch:71  Loss:0.00000000  weight:1.99998\n",
      "Epoch:81  Loss:0.00000000  weight:2.00000\n",
      "Epoch:91  Loss:0.00000000  weight:2.00000\n",
      "\n",
      "Prediction after training: f(5) = 10.000\n"
     ]
    }
   ],
   "source": [
    "import torch\n",
    "import torch.nn as nn\n",
    "# model: y = w*x = 2*x\n",
    "\n",
    "# Initialisation\n",
    "x = torch.tensor([1,2,3,4], dtype=torch.float32)\n",
    "y = torch.tensor([2,4,6,8], dtype=torch.float32)\n",
    "w = torch.tensor(0.0, dtype=torch.float32, requires_grad=True)\n",
    "\n",
    "# Forward pass\n",
    "def forw_pass(x):\n",
    "    return w*x\n",
    "    \n",
    "alpha = .01\n",
    "num_iteration = 100\n",
    "\n",
    "# Loss MSE can be defined by the torch.nn package\n",
    "loss = nn.MSELoss()\n",
    "optimiser = torch.optim.SGD([w], lr = alpha)\n",
    "\n",
    "# Training loop\n",
    "for epoch in range(num_iteration):\n",
    "    y_hat = forw_pass(x)\n",
    "    \n",
    "    l = loss(y,y_hat)\n",
    "    l.backward()\n",
    "    # print(w.grad)\n",
    "\n",
    "    optimiser.step()\n",
    "    optimiser.zero_grad()\n",
    "    \n",
    "    if epoch%10 == 0:\n",
    "        print(f\"Epoch:{epoch+1}  Loss:{l:.8f}  weight:{w:.5f}\")    \n",
    "   \n",
    "\n",
    "print(f\"\\nPrediction after training: f(5) = {forw_pass(5):.3f}\")\n",
    "    "
   ]
  },
  {
   "attachments": {},
   "cell_type": "markdown",
   "metadata": {},
   "source": [
    "Using torch.nn to define model"
   ]
  },
  {
   "cell_type": "code",
   "execution_count": 125,
   "metadata": {},
   "outputs": [
    {
     "name": "stdout",
     "output_type": "stream",
     "text": [
      "Prediction before training: -0.646\n",
      "\n",
      "Epoch:1  Loss:36.50326157  weight:3.62135\n",
      "Epoch:11  Loss:1.04214954  weight:2.25441\n",
      "Epoch:21  Loss:0.03020798  weight:2.02907\n",
      "Epoch:31  Loss:0.00110842  weight:1.99497\n",
      "Epoch:41  Loss:0.00015794  weight:1.99204\n",
      "Epoch:51  Loss:0.00006916  weight:1.99357\n",
      "Epoch:61  Loss:0.00003507  weight:1.99527\n",
      "Epoch:71  Loss:0.00001794  weight:1.99660\n",
      "Epoch:81  Loss:0.00000918  weight:1.99756\n",
      "Epoch:91  Loss:0.00000470  weight:1.99826\n",
      "\n",
      "Prediction after training: f(5) = 9.997\n"
     ]
    }
   ],
   "source": [
    "import torch\n",
    "import torch.nn as nn\n",
    "# model: y = w*x = 2*x\n",
    "\n",
    "# Initialisation\n",
    "X = torch.tensor([[1],[2],[3],[4]], dtype=torch.float32)\n",
    "y = torch.tensor([[2],[4],[6],[8]], dtype=torch.float32)\n",
    "X_test = torch.tensor([5], dtype = torch.float32)\n",
    "\n",
    "m, n_features = X.shape\n",
    "input_size = output_size = n_features\n",
    "# We dont need w because torch.nn will automatically deal with the parameters\n",
    "\n",
    "# Model\n",
    "# model = nn.Linear(input_size, output_size)\n",
    "\n",
    "# Making a custom model\n",
    "class LinearRegression(nn.Module):\n",
    "    def __init__(self,inp_size, out_size):\n",
    "        super(LinearRegression, self).__init__()\n",
    "        self.lin = nn.Linear(inp_size, out_size)\n",
    "    \n",
    "    def forward(self,x):\n",
    "        return self.lin(x)\n",
    "\n",
    "model = LinearRegression(input_size, output_size)\n",
    "        \n",
    "print(f\"Prediction before training: {model(X_test).item():.3f}\\n\")\n",
    "\n",
    "alpha = .11\n",
    "num_iteration = 100\n",
    "\n",
    "# Loss MSE can be defined by the torch.nn package\n",
    "loss = nn.MSELoss()\n",
    "optimiser = torch.optim.SGD(model.parameters(),lr = alpha )\n",
    "\n",
    "# Training loop\n",
    "for epoch in range(num_iteration):\n",
    "    y_hat = model(X)\n",
    "    \n",
    "    l = loss(y,y_hat)\n",
    "    l.backward()\n",
    "    # print(w.grad)\n",
    "\n",
    "    optimiser.step()\n",
    "    optimiser.zero_grad()\n",
    "    \n",
    "    if epoch%10 == 0:\n",
    "        [w,b] = model.parameters()\n",
    "        print(f\"Epoch:{epoch+1}  Loss:{l:.8f}  weight:{w[0][0].item():.5f}\")    \n",
    "   \n",
    "\n",
    "print(f\"\\nPrediction after training: f(5) = {model(X_test).item():.3f}\")\n",
    "    \n",
    "\n"
   ]
  }
 ],
 "metadata": {
  "kernelspec": {
   "display_name": "Python 3",
   "language": "python",
   "name": "python3"
  },
  "language_info": {
   "codemirror_mode": {
    "name": "ipython",
    "version": 3
   },
   "file_extension": ".py",
   "mimetype": "text/x-python",
   "name": "python",
   "nbconvert_exporter": "python",
   "pygments_lexer": "ipython3",
   "version": "3.9.7"
  },
  "orig_nbformat": 4
 },
 "nbformat": 4,
 "nbformat_minor": 2
}
