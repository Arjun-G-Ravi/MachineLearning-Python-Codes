{
 "cells": [
  {
   "attachments": {},
   "cell_type": "markdown",
   "metadata": {},
   "source": [
    "Whenever using ML:\n",
    "\n",
    "    1) Design the model (the forward pass), the input size and output size\n",
    "    2) Construct loss and the optimiser\n",
    "    3) Training loop\n",
    "         - Forward pass: Compute prediction\n",
    "         - Backward pass: Gradients\n",
    "         - Compute loss for accuracy check\n",
    "         - Update weights"
   ]
  },
  {
   "attachments": {},
   "cell_type": "markdown",
   "metadata": {},
   "source": [
    "Without PyTorch"
   ]
  },
  {
   "cell_type": "code",
   "execution_count": null,
   "metadata": {},
   "outputs": [],
   "source": [
    "import numpy as np\n",
    "\n",
    "# model: y = w*x = 2*x\n",
    "\n",
    "# Initialisation\n",
    "x = np.array([1,2,3,4], dtype=np.float32)\n",
    "y = np.array([2,4,6,8], dtype=np.float32)\n",
    "w = 0.0\n",
    "\n",
    "# Forward pass\n",
    "def forw_pass(x,w):\n",
    "    y_hat = w*x\n",
    "    return y_hat\n",
    "\n",
    "# Loss MSE\n",
    "def loss(y, y_hat):\n",
    "    return ((y_hat - y)**2).mean()\n",
    "\n",
    "# Gradient\n",
    "def gradient(x,y,y_hat):\n",
    "    return np.dot(2*x,y_hat-y).mean()\n",
    "\n",
    "alpha = .01\n",
    "num_iteration = 15\n",
    "\n",
    "for epoch in range(num_iteration):\n",
    "    y_hat = forw_pass(x,w)\n",
    "    l = loss(y,y_hat)\n",
    "    dL_dw = gradient(x,y,y_hat)\n",
    "    w = w - alpha * dL_dw\n",
    "    print(f\"Epoch:{epoch+1}  Loss:{l:.8f}  weight:{w:.5f}\")\n",
    "\n",
    "print(f\"\\nPrediction after training: f(5) = {forw_pass(5,w):.3f}\")\n",
    "    "
   ]
  },
  {
   "attachments": {},
   "cell_type": "markdown",
   "metadata": {},
   "source": [
    "Using Autograd of PyTorch"
   ]
  },
  {
   "cell_type": "code",
   "execution_count": 52,
   "metadata": {},
   "outputs": [
    {
     "name": "stdout",
     "output_type": "stream",
     "text": [
      "Prediction before training: f(5) = 0.000\n",
      "Epoch:1  Loss:30.00000000  weight:0.30000\n",
      "Epoch:11  Loss:1.16278565  weight:1.66531\n",
      "Epoch:21  Loss:0.04506890  weight:1.93411\n",
      "Epoch:31  Loss:0.00174685  weight:1.98703\n",
      "Epoch:41  Loss:0.00006770  weight:1.99745\n",
      "Epoch:51  Loss:0.00000262  weight:1.99950\n",
      "Epoch:61  Loss:0.00000010  weight:1.99990\n",
      "Epoch:71  Loss:0.00000000  weight:1.99998\n",
      "Epoch:81  Loss:0.00000000  weight:2.00000\n",
      "Epoch:91  Loss:0.00000000  weight:2.00000\n",
      "\n",
      "Prediction after training: f(5) = 10.000\n"
     ]
    }
   ],
   "source": [
    "import torch\n",
    "\n",
    "# model: y = w*x = 2*x\n",
    "\n",
    "# Initialisation\n",
    "x = torch.tensor([1,2,3,4], dtype=torch.float32)\n",
    "y = torch.tensor([2,4,6,8], dtype=torch.float32)\n",
    "w = torch.tensor(0.0, dtype=torch.float32, requires_grad=True)\n",
    "\n",
    "# Forward pass\n",
    "def forw_pass(x):\n",
    "    return w*x\n",
    "    \n",
    "# Loss MSE\n",
    "def loss(y, y_hat):\n",
    "    return ((y_hat - y)**2).mean()\n",
    "\n",
    "# Gradient calc done by autograd\n",
    "print(f'Prediction before training: f(5) = {forw_pass(5).item():.3f}')\n",
    "alpha = .01\n",
    "num_iteration = 100\n",
    "\n",
    "for epoch in range(num_iteration):\n",
    "    y_hat = forw_pass(x)\n",
    "    \n",
    "    l = loss(y,y_hat)\n",
    "    l.backward()\n",
    "    # print(w.grad)\n",
    "\n",
    "    with torch.no_grad():\n",
    "        w -= alpha * w.grad\n",
    "    if epoch%10 == 0:\n",
    "        print(f\"Epoch:{epoch+1}  Loss:{l:.8f}  weight:{w:.5f}\")    \n",
    "    w.grad.zero_()\n",
    "   \n",
    "\n",
    "print(f\"\\nPrediction after training: f(5) = {forw_pass(5):.3f}\")\n",
    "    "
   ]
  },
  {
   "attachments": {},
   "cell_type": "markdown",
   "metadata": {},
   "source": [
    "Using torch.nn module"
   ]
  },
  {
   "cell_type": "code",
   "execution_count": null,
   "metadata": {},
   "outputs": [],
   "source": [
    "import torch\n",
    "import torch.nn as nn\n",
    "# model: y = w*x = 2*x\n",
    "\n",
    "# Initialisation\n",
    "x = torch.tensor([1,2,3,4], dtype=torch.float32)\n",
    "y = torch.tensor([2,4,6,8], dtype=torch.float32)\n",
    "w = torch.tensor(0.0, dtype=torch.float32, requires_grad=True)\n",
    "\n",
    "# Forward pass\n",
    "def forw_pass(x):\n",
    "    return w*x\n",
    "    \n",
    "# Loss MSE\n",
    "def loss(y, y_hat):\n",
    "    return ((y_hat - y)**2).mean()\n",
    "\n",
    "# Gradient calc done by autograd\n",
    "print(f'Prediction before training: f(5) = {forw_pass(5).item():.3f}')\n",
    "alpha = .01\n",
    "num_iteration = 100\n",
    "\n",
    "for epoch in range(num_iteration):\n",
    "    y_hat = forw_pass(x)\n",
    "    \n",
    "    l = loss(y,y_hat)\n",
    "    l.backward()\n",
    "    # print(w.grad)\n",
    "\n",
    "    with torch.no_grad():\n",
    "        w -= alpha * w.grad\n",
    "    if epoch%10 == 0:\n",
    "        print(f\"Epoch:{epoch+1}  Loss:{l:.8f}  weight:{w:.5f}\")    \n",
    "    w.grad.zero_()\n",
    "   \n",
    "\n",
    "print(f\"\\nPrediction after training: f(5) = {forw_pass(5):.3f}\")\n",
    "    "
   ]
  }
 ],
 "metadata": {
  "kernelspec": {
   "display_name": "Python 3",
   "language": "python",
   "name": "python3"
  },
  "language_info": {
   "codemirror_mode": {
    "name": "ipython",
    "version": 3
   },
   "file_extension": ".py",
   "mimetype": "text/x-python",
   "name": "python",
   "nbconvert_exporter": "python",
   "pygments_lexer": "ipython3",
   "version": "3.9.7"
  },
  "orig_nbformat": 4
 },
 "nbformat": 4,
 "nbformat_minor": 2
}
