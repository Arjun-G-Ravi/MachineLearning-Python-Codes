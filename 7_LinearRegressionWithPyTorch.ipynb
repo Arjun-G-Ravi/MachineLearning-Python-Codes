{
 "cells": [
  {
   "attachments": {},
   "cell_type": "markdown",
   "metadata": {},
   "source": [
    "Without PyTorch"
   ]
  },
  {
   "cell_type": "code",
   "execution_count": 23,
   "metadata": {},
   "outputs": [
    {
     "name": "stdout",
     "output_type": "stream",
     "text": [
      "Epoch:1  Loss:30.00000000  weight:1.20000\n",
      "Epoch:2  Loss:4.79999924  weight:1.68000\n",
      "Epoch:3  Loss:0.76800019  weight:1.87200\n",
      "Epoch:4  Loss:0.12288000  weight:1.94880\n",
      "Epoch:5  Loss:0.01966083  weight:1.97952\n",
      "Epoch:6  Loss:0.00314570  weight:1.99181\n",
      "Epoch:7  Loss:0.00050332  weight:1.99672\n",
      "Epoch:8  Loss:0.00008053  weight:1.99869\n",
      "Epoch:9  Loss:0.00001288  weight:1.99948\n",
      "Epoch:10  Loss:0.00000206  weight:1.99979\n",
      "Epoch:11  Loss:0.00000033  weight:1.99992\n",
      "Epoch:12  Loss:0.00000005  weight:1.99997\n",
      "Epoch:13  Loss:0.00000001  weight:1.99999\n",
      "Epoch:14  Loss:0.00000000  weight:1.99999\n",
      "Epoch:15  Loss:0.00000000  weight:2.00000\n",
      "\n",
      "Prediction after training: f(5) = 10.000\n"
     ]
    }
   ],
   "source": [
    "import numpy as np\n",
    "\n",
    "# model: y = w*x = 2*x\n",
    "\n",
    "# Initialisation\n",
    "x = np.array([1,2,3,4], dtype=np.float32)\n",
    "y = np.array([2,4,6,8], dtype=np.float32)\n",
    "w = 0.0\n",
    "\n",
    "# Forward pass\n",
    "def forw_pass(x,w):\n",
    "    y_hat = w*x\n",
    "    return y_hat\n",
    "\n",
    "# Loss MSE\n",
    "def loss(y, y_hat):\n",
    "    return ((y_hat - y)**2).mean()\n",
    "\n",
    "# Gradient\n",
    "def gradient(x,y,y_hat):\n",
    "    return np.dot(2*x,y_hat-y).mean()\n",
    "\n",
    "alpha = .01\n",
    "num_iteration = 15\n",
    "\n",
    "for epoch in range(num_iteration):\n",
    "    y_hat = forw_pass(x,w)\n",
    "    l = loss(y,y_hat)\n",
    "    dL_dw = gradient(x,y,y_hat)\n",
    "    \n",
    "    w = w - alpha * dL_dw\n",
    "    print(f\"Epoch:{epoch+1}  Loss:{l:.8f}  weight:{w:.5f}\")\n",
    "\n",
    "print(f\"\\nPrediction after training: f(5) = {forw_pass(5,w):.3f}\")\n",
    "    "
   ]
  },
  {
   "attachments": {},
   "cell_type": "markdown",
   "metadata": {},
   "source": [
    "Using Autograd of PyTorch"
   ]
  },
  {
   "cell_type": "code",
   "execution_count": 7,
   "metadata": {},
   "outputs": [
    {
     "ename": "AttributeError",
     "evalue": "'NoneType' object has no attribute 'zero_'",
     "output_type": "error",
     "traceback": [
      "\u001b[1;31m---------------------------------------------------------------------------\u001b[0m",
      "\u001b[1;31mAttributeError\u001b[0m                            Traceback (most recent call last)",
      "Cell \u001b[1;32mIn[7], line 32\u001b[0m\n\u001b[0;32m     29\u001b[0m     \u001b[39mwith\u001b[39;00m torch\u001b[39m.\u001b[39mno_grad():\n\u001b[0;32m     30\u001b[0m         w \u001b[39m=\u001b[39m w \u001b[39m-\u001b[39m alpha \u001b[39m*\u001b[39m w\u001b[39m.\u001b[39mgrad\n\u001b[1;32m---> 32\u001b[0m     w\u001b[39m.\u001b[39;49mgrad\u001b[39m.\u001b[39;49mzero_()\n\u001b[0;32m     33\u001b[0m     \u001b[39mprint\u001b[39m(\u001b[39mf\u001b[39m\u001b[39m\"\u001b[39m\u001b[39mEpoch:\u001b[39m\u001b[39m{\u001b[39;00mepoch\u001b[39m+\u001b[39m\u001b[39m1\u001b[39m\u001b[39m}\u001b[39;00m\u001b[39m  Loss:\u001b[39m\u001b[39m{\u001b[39;00ml\u001b[39m:\u001b[39;00m\u001b[39m.8f\u001b[39m\u001b[39m}\u001b[39;00m\u001b[39m  weight:\u001b[39m\u001b[39m{\u001b[39;00mw\u001b[39m:\u001b[39;00m\u001b[39m.5f\u001b[39m\u001b[39m}\u001b[39;00m\u001b[39m\"\u001b[39m)\n\u001b[0;32m     35\u001b[0m \u001b[39mprint\u001b[39m(\u001b[39mf\u001b[39m\u001b[39m\"\u001b[39m\u001b[39m\\n\u001b[39;00m\u001b[39mPrediction after training: f(5) = \u001b[39m\u001b[39m{\u001b[39;00mforw_pass(\u001b[39m5\u001b[39m,w)\u001b[39m:\u001b[39;00m\u001b[39m.3f\u001b[39m\u001b[39m}\u001b[39;00m\u001b[39m\"\u001b[39m)\n",
      "\u001b[1;31mAttributeError\u001b[0m: 'NoneType' object has no attribute 'zero_'"
     ]
    }
   ],
   "source": [
    "import torch\n",
    "\n",
    "# model: y = w*x = 2*x\n",
    "\n",
    "# Initialisation\n",
    "x = torch.tensor([1,2,3,4], dtype=torch.float32)\n",
    "y = torch.tensor([2,4,6,8], dtype=torch.float32)\n",
    "w = torch.tensor(0.0, requires_grad=True)\n",
    "\n",
    "# Forward pass\n",
    "def forw_pass(x,w):\n",
    "    y_hat = w*x\n",
    "    return y_hat\n",
    "\n",
    "# Loss MSE\n",
    "def loss(y, y_hat):\n",
    "    return ((y_hat - y)**2).mean()\n",
    "\n",
    "# Gradient calc done by autograd\n",
    "\n",
    "alpha = .01\n",
    "num_iteration = 15\n",
    "\n",
    "for epoch in range(num_iteration):\n",
    "    y_hat = forw_pass(x,w)\n",
    "    l = loss(y,y_hat)\n",
    "    l.backward()\n",
    "    \n",
    "    with torch.no_grad():\n",
    "        w = w - alpha * w.grad\n",
    "        \n",
    "    w.grad.zero_()\n",
    "    print(f\"Epoch:{epoch+1}  Loss:{l:.8f}  weight:{w:.5f}\")\n",
    "\n",
    "print(f\"\\nPrediction after training: f(5) = {forw_pass(5,w):.3f}\")\n",
    "    "
   ]
  }
 ],
 "metadata": {
  "kernelspec": {
   "display_name": "Python 3",
   "language": "python",
   "name": "python3"
  },
  "language_info": {
   "codemirror_mode": {
    "name": "ipython",
    "version": 3
   },
   "file_extension": ".py",
   "mimetype": "text/x-python",
   "name": "python",
   "nbconvert_exporter": "python",
   "pygments_lexer": "ipython3",
   "version": "3.9.7"
  },
  "orig_nbformat": 4
 },
 "nbformat": 4,
 "nbformat_minor": 2
}
