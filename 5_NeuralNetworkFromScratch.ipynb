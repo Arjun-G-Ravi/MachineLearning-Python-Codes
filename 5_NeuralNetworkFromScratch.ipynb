{
 "cells": [
  {
   "attachments": {},
   "cell_type": "markdown",
   "metadata": {},
   "source": [
    "Necessary libraries"
   ]
  },
  {
   "cell_type": "code",
   "execution_count": null,
   "metadata": {},
   "outputs": [],
   "source": [
    "import numpy as np"
   ]
  },
  {
   "attachments": {},
   "cell_type": "markdown",
   "metadata": {},
   "source": [
    "Forward propogation"
   ]
  },
  {
   "cell_type": "code",
   "execution_count": 342,
   "metadata": {},
   "outputs": [],
   "source": [
    "def sigmoid(z):\n",
    "     return 1/(1+ np.exp(z))"
   ]
  },
  {
   "attachments": {},
   "cell_type": "markdown",
   "metadata": {},
   "source": [
    "###### To perform forward propogation, we have to have assigned values of W's and b's. We also need to give in the input. So giving all the necessary data:"
   ]
  },
  {
   "cell_type": "code",
   "execution_count": 343,
   "metadata": {},
   "outputs": [],
   "source": [
    "x = np.array([200,17]) # input data jnto the NN"
   ]
  },
  {
   "attachments": {},
   "cell_type": "markdown",
   "metadata": {},
   "source": [
    "Data learned by the NN"
   ]
  },
  {
   "cell_type": "code",
   "execution_count": 344,
   "metadata": {},
   "outputs": [
    {
     "name": "stderr",
     "output_type": "stream",
     "text": [
      "C:\\Users\\Home\\AppData\\Local\\Temp\\ipykernel_3276\\1724446144.py:2: RuntimeWarning: overflow encountered in exp\n",
      "  return 1/(1+ np.exp(z))\n"
     ]
    }
   ],
   "source": [
    "w1_1 = np.array([1,4])\n",
    "b1_1 = 1\n",
    "\n",
    "w1_2 = np.array([2,5]) \n",
    "b1_2 = 2\n",
    "\n",
    "w1_3 = np.array([6,4])\n",
    "b1_3 = 1\n",
    "\n",
    "w2_1 = np.array([2,9,5])\n",
    "b2_1 = 3\n",
    "\n",
    "w2_2 = np.array([22,6,4])\n",
    "b2_2 = 6\n",
    "\n",
    "w3_1 = np.array([7,3])\n",
    "b3_1 = 8\n",
    "\n",
    "W_1 = np.array([w1_1,w1_2,w1_3]).transpose()\n",
    "W_2 = np.array([w2_1, w2_2]).transpose()\n",
    "W_3 = np.array([w3_1]).transpose()\n",
    "\n",
    "b1 = np.array([b1_1, b1_2, b1_3])\n",
    "b2 = np.array([b2_1, b2_2])\n",
    "b3 = np.array([b3_1])\n",
    "\n",
    "a1_1 = sigmoid(np.dot(w1_1, x) + b1_1)\n",
    "a1_2 = sigmoid(np.dot(w1_2, x) + b1_2)\n",
    "a1_3 = sigmoid(np.dot(w1_3, x) + b1_3)\n",
    "a1 = np.array([a1_1, a1_2, a1_3])\n",
    "\n",
    "a2_1 = sigmoid(np.dot(w2_1, a1) + b2_1)\n",
    "a2_2 = sigmoid(np.dot(w2_2, a1) + b2_2)\n",
    "a2 = np.array([a2_1, a2_2]).transpose()\n",
    "\n",
    "a3_1 = sigmoid(np.dot(w3_1, a2) + b3_1)\n",
    "a3 = np.array([a3_1]).transpose()"
   ]
  },
  {
   "cell_type": "code",
   "execution_count": 345,
   "metadata": {},
   "outputs": [],
   "source": [
    "def dense(a_in, W, b):\n",
    "    units = W.shape[1]\n",
    "    a_out = np.zeros(units)\n",
    "    for j in range(units):\n",
    "        w = W[:,j] # extracting a column\n",
    "        a_out[j] = sigmoid(np.dot(w,a_in) + b[j])\n",
    "    return a_out"
   ]
  },
  {
   "attachments": {},
   "cell_type": "markdown",
   "metadata": {},
   "source": [
    "###### There is also a vectorised implementaition of dense function. It is shorter and faster. It is:"
   ]
  },
  {
   "cell_type": "code",
   "execution_count": 346,
   "metadata": {},
   "outputs": [],
   "source": [
    "def dense_vectorised(AT, W, b): # AT is a transpose\n",
    "    return(sigmoid(np.matmul(AT,W) + b))  # Also all are 2d arrays"
   ]
  },
  {
   "cell_type": "code",
   "execution_count": 347,
   "metadata": {},
   "outputs": [],
   "source": [
    "def sequential(x):  # x is a0\n",
    "    a1 = dense(x, W_1, b1)\n",
    "    a2 = dense(a1, W_2, b2)\n",
    "    a3 = dense(a2, W_3, b3)\n",
    "    return a3"
   ]
  },
  {
   "cell_type": "code",
   "execution_count": 348,
   "metadata": {},
   "outputs": [
    {
     "name": "stdout",
     "output_type": "stream",
     "text": [
      "Prediction of the NN is [0.00023886]\n"
     ]
    },
    {
     "name": "stderr",
     "output_type": "stream",
     "text": [
      "C:\\Users\\Home\\AppData\\Local\\Temp\\ipykernel_3276\\1724446144.py:2: RuntimeWarning: overflow encountered in exp\n",
      "  return 1/(1+ np.exp(z))\n"
     ]
    }
   ],
   "source": [
    "print(f\"Prediction of the NN is {sequential(x)}\")"
   ]
  }
 ],
 "metadata": {
  "kernelspec": {
   "display_name": "Python 3",
   "language": "python",
   "name": "python3"
  },
  "language_info": {
   "codemirror_mode": {
    "name": "ipython",
    "version": 3
   },
   "file_extension": ".py",
   "mimetype": "text/x-python",
   "name": "python",
   "nbconvert_exporter": "python",
   "pygments_lexer": "ipython3",
   "version": "3.9.9"
  },
  "orig_nbformat": 4,
  "vscode": {
   "interpreter": {
    "hash": "6695315e432dad9365e64f39285f0493c8af918d3cb74b9bae4e100548ae2c82"
   }
  }
 },
 "nbformat": 4,
 "nbformat_minor": 2
}
