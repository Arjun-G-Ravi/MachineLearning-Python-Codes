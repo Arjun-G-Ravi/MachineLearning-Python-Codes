{
 "cells": [
  {
   "attachments": {},
   "cell_type": "markdown",
   "metadata": {},
   "source": [
    "Importing modules"
   ]
  },
  {
   "cell_type": "code",
   "execution_count": 1,
   "metadata": {},
   "outputs": [],
   "source": [
    "import torch\n",
    "import numpy as np"
   ]
  },
  {
   "attachments": {},
   "cell_type": "markdown",
   "metadata": {},
   "source": [
    "Basics"
   ]
  },
  {
   "cell_type": "code",
   "execution_count": 2,
   "metadata": {},
   "outputs": [
    {
     "data": {
      "text/plain": [
       "tensor([1, 2, 3], dtype=torch.int32)"
      ]
     },
     "execution_count": 2,
     "metadata": {},
     "output_type": "execute_result"
    }
   ],
   "source": [
    "x = torch.tensor([1,2,3],dtype=torch.int32)\n",
    "x"
   ]
  },
  {
   "cell_type": "code",
   "execution_count": 3,
   "metadata": {},
   "outputs": [
    {
     "data": {
      "text/plain": [
       "tensor([[-0.2624,  0.7929,  2.4588],\n",
       "        [-0.3986, -0.0117,  0.0379]])"
      ]
     },
     "execution_count": 3,
     "metadata": {},
     "output_type": "execute_result"
    }
   ],
   "source": [
    "y = torch.randn(2,3)\n",
    "y"
   ]
  },
  {
   "cell_type": "code",
   "execution_count": 4,
   "metadata": {},
   "outputs": [
    {
     "data": {
      "text/plain": [
       "tensor([[1., 1., 1.],\n",
       "        [1., 1., 1.]])"
      ]
     },
     "execution_count": 4,
     "metadata": {},
     "output_type": "execute_result"
    }
   ],
   "source": [
    "z = torch.ones(2,3)\n",
    "z"
   ]
  },
  {
   "cell_type": "code",
   "execution_count": 5,
   "metadata": {},
   "outputs": [
    {
     "data": {
      "text/plain": [
       "tensor([[0.7376, 1.7929, 3.4588],\n",
       "        [0.6014, 0.9883, 1.0379]])"
      ]
     },
     "execution_count": 5,
     "metadata": {},
     "output_type": "execute_result"
    }
   ],
   "source": [
    "z.add_(y)   # _ indicates that it is an in-place funciton \n",
    "z"
   ]
  },
  {
   "cell_type": "code",
   "execution_count": 6,
   "metadata": {},
   "outputs": [
    {
     "data": {
      "text/plain": [
       "False"
      ]
     },
     "execution_count": 6,
     "metadata": {},
     "output_type": "execute_result"
    }
   ],
   "source": [
    "torch.cuda.is_available()"
   ]
  },
  {
   "attachments": {},
   "cell_type": "markdown",
   "metadata": {},
   "source": [
    "Gradient"
   ]
  },
  {
   "cell_type": "code",
   "execution_count": 7,
   "metadata": {},
   "outputs": [
    {
     "name": "stdout",
     "output_type": "stream",
     "text": [
      "tensor(22.5000, grad_fn=<MeanBackward0>)\n",
      "tensor([-0.2500, -0.2500, -0.2500, -0.2500])\n",
      "tensor([0.2500, 0.2500, 0.2500, 0.2500])\n"
     ]
    }
   ],
   "source": [
    "x = torch.tensor([1,2,3,4],dtype=torch.float32,requires_grad=True)\n",
    "y = torch.tensor([10,20,30,40],dtype=torch.float32,requires_grad=True)\n",
    "# print(x.shape)\n",
    "# y = x+2\n",
    "z = (y-x).mean()\n",
    "print(z)\n",
    "\n",
    "z.backward()\n",
    "print(x.grad)\n",
    "print(y.grad)\n"
   ]
  },
  {
   "cell_type": "code",
   "execution_count": 8,
   "metadata": {},
   "outputs": [
    {
     "name": "stderr",
     "output_type": "stream",
     "text": [
      "C:\\Users\\Home\\AppData\\Local\\Temp\\ipykernel_10132\\820112559.py:2: UserWarning: To copy construct from a tensor, it is recommended to use sourceTensor.clone().detach() or sourceTensor.clone().detach().requires_grad_(True), rather than torch.tensor(sourceTensor).\n",
      "  y = torch.tensor(2*x,requires_grad=True)\n"
     ]
    },
    {
     "data": {
      "text/plain": [
       "tensor([3., 3., 3.])"
      ]
     },
     "execution_count": 8,
     "metadata": {},
     "output_type": "execute_result"
    }
   ],
   "source": [
    "x = torch.ones(3, requires_grad=True)\n",
    "y = torch.tensor(2*x,requires_grad=True)\n",
    "z = 3*y\n",
    "z.backward(torch.ones_like(z))\n",
    "y.grad"
   ]
  },
  {
   "attachments": {},
   "cell_type": "markdown",
   "metadata": {},
   "source": [
    "Sample model working"
   ]
  },
  {
   "cell_type": "code",
   "execution_count": 9,
   "metadata": {},
   "outputs": [
    {
     "name": "stdout",
     "output_type": "stream",
     "text": [
      "Weight:  tensor([-0.1647, -1.8984,  1.3119, -0.0416, -1.2620], requires_grad=True)\n",
      "tensor([3., 3., 3., 3., 3.])\n",
      "tensor([6., 6., 6., 6., 6.])\n",
      "tensor([9., 9., 9., 9., 9.])\n",
      "tensor([12., 12., 12., 12., 12.])\n",
      "tensor([15., 15., 15., 15., 15.])\n",
      "tensor([18., 18., 18., 18., 18.])\n",
      "tensor([21., 21., 21., 21., 21.])\n",
      "tensor([24., 24., 24., 24., 24.])\n",
      "tensor([27., 27., 27., 27., 27.])\n",
      "tensor([30., 30., 30., 30., 30.])\n"
     ]
    }
   ],
   "source": [
    "weight = torch.randn(5, requires_grad=True)\n",
    "print('Weight: ',weight)\n",
    "\n",
    "def model(input):\n",
    "    output = 3*input    \n",
    "    return output\n",
    "\n",
    "for epoch in range(10):\n",
    "    model_output = model(weight)\n",
    "    model_output.backward(torch.ones_like(model_output))    \n",
    "    print(weight.grad)\n",
    "    # weight.grad.zero_() # if you want to empty the gradient"
   ]
  },
  {
   "attachments": {},
   "cell_type": "markdown",
   "metadata": {},
   "source": [
    "Forward and Backward propogation"
   ]
  },
  {
   "cell_type": "code",
   "execution_count": 22,
   "metadata": {},
   "outputs": [
    {
     "name": "stdout",
     "output_type": "stream",
     "text": [
      "tensor(1., grad_fn=<PowBackward0>)\n",
      "tensor(-2.)\n"
     ]
    }
   ],
   "source": [
    "x = torch.tensor(1.)\n",
    "w = torch.tensor(1.,requires_grad=True)\n",
    "y = torch.tensor(2.)\n",
    "def model(x,w):\n",
    "    return x*w\n",
    "\n",
    "# forward pass \n",
    "y_hat = model(x,w)\n",
    "L = (y_hat - y)**2\n",
    "print(L)  \n",
    "\n",
    "# backward pass\n",
    "L.backward()\n",
    "print(w.grad)"
   ]
  }
 ],
 "metadata": {
  "kernelspec": {
   "display_name": "base",
   "language": "python",
   "name": "python3"
  },
  "language_info": {
   "codemirror_mode": {
    "name": "ipython",
    "version": 3
   },
   "file_extension": ".py",
   "mimetype": "text/x-python",
   "name": "python",
   "nbconvert_exporter": "python",
   "pygments_lexer": "ipython3",
   "version": "3.9.7"
  },
  "orig_nbformat": 4,
  "vscode": {
   "interpreter": {
    "hash": "950b5653ccfc34417735dd321d006fd482b31f7611416c3d8236dc5b17587d3f"
   }
  }
 },
 "nbformat": 4,
 "nbformat_minor": 2
}
